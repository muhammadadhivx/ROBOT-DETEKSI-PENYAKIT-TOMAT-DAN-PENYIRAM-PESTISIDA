{
 "cells": [
  {
   "cell_type": "code",
   "execution_count": 1,
   "metadata": {},
   "outputs": [],
   "source": [
    "import matplotlib.pyplot as plt\n",
    "%matplotlib inline\n",
    "import cv2\n",
    "import tensorflow as tf\n",
    "from keras.models import Sequential\n",
    "from keras.layers import Activation, Dropout, Flatten, Dense, Conv2D, MaxPooling2D\n",
    "import matplotlib.pyplot as plt\n",
    "from keras.preprocessing.image import ImageDataGenerator\n",
    "from keras.models import Sequential\n",
    "from keras.layers import Activation, Dropout, Flatten, Dense, Conv2D, MaxPooling2D\n",
    "from tensorflow.keras.callbacks import EarlyStopping, TensorBoard"
   ]
  },
  {
   "cell_type": "code",
   "execution_count": 2,
   "metadata": {},
   "outputs": [],
   "source": [
    "image_gen = ImageDataGenerator(rotation_range=30,\n",
    "                               width_shift_range=0.1,\n",
    "                               height_shift_range=0.1,\n",
    "                               rescale=1/255,\n",
    "                               shear_range=0.2,\n",
    "                               zoom_range=0.1,\n",
    "                               horizontal_flip=True,\n",
    "                               vertical_flip=True,\n",
    "                               fill_mode='nearest'\n",
    "                              )"
   ]
  },
  {
   "cell_type": "code",
   "execution_count": 3,
   "metadata": {},
   "outputs": [
    {
     "name": "stdout",
     "output_type": "stream",
     "text": [
      "Found 4191 images belonging to 3 classes.\n"
     ]
    },
    {
     "data": {
      "text/plain": [
       "<tensorflow.python.keras.preprocessing.image.DirectoryIterator at 0x1e04df02580>"
      ]
     },
     "execution_count": 3,
     "metadata": {},
     "output_type": "execute_result"
    }
   ],
   "source": [
    "image_gen.flow_from_directory('dataset/penyakit/train')"
   ]
  },
  {
   "cell_type": "code",
   "execution_count": 4,
   "metadata": {},
   "outputs": [
    {
     "name": "stdout",
     "output_type": "stream",
     "text": [
      "Found 985 images belonging to 3 classes.\n"
     ]
    },
    {
     "data": {
      "text/plain": [
       "<tensorflow.python.keras.preprocessing.image.DirectoryIterator at 0x1e04dee22e0>"
      ]
     },
     "execution_count": 4,
     "metadata": {},
     "output_type": "execute_result"
    }
   ],
   "source": [
    "image_gen.flow_from_directory('dataset/penyakit/test')"
   ]
  },
  {
   "cell_type": "code",
   "execution_count": 5,
   "metadata": {},
   "outputs": [],
   "source": [
    "image_shape = (255,255,3)"
   ]
  },
  {
   "cell_type": "code",
   "execution_count": 6,
   "metadata": {},
   "outputs": [],
   "source": [
    "early_stop = EarlyStopping(monitor='val_loss', mode='min', verbose=1, patience=5)"
   ]
  },
  {
   "cell_type": "code",
   "execution_count": 7,
   "metadata": {},
   "outputs": [
    {
     "data": {
      "text/plain": [
       "'e:\\\\#KULIAH\\\\Final Business\\\\CNN Model dan Codingan'"
      ]
     },
     "execution_count": 7,
     "metadata": {},
     "output_type": "execute_result"
    }
   ],
   "source": [
    "pwd"
   ]
  },
  {
   "cell_type": "code",
   "execution_count": 8,
   "metadata": {},
   "outputs": [],
   "source": [
    "from datetime import datetime"
   ]
  },
  {
   "cell_type": "code",
   "execution_count": 9,
   "metadata": {},
   "outputs": [
    {
     "data": {
      "text/plain": [
       "'2022-05-15--12.19'"
      ]
     },
     "execution_count": 9,
     "metadata": {},
     "output_type": "execute_result"
    }
   ],
   "source": [
    "datetime.now().strftime(\"%Y-%m-%d--%H.%M\")"
   ]
  },
  {
   "cell_type": "code",
   "execution_count": 10,
   "metadata": {},
   "outputs": [],
   "source": [
    "log_dir = 'logs\\\\fit-penyakit11'\n",
    "\n",
    "board = TensorBoard(log_dir = log_dir, histogram_freq=1,write_graph=True, write_images=True, update_freq='epoch',profile_batch=2,embeddings_freq=1)"
   ]
  },
  {
   "cell_type": "code",
   "execution_count": 11,
   "metadata": {},
   "outputs": [],
   "source": [
    "model = Sequential()\n",
    "model.add(Conv2D(32, (3, 3), activation='relu', input_shape=(255,255,3)))\n",
    "model.add(MaxPooling2D((2, 2)))\n",
    "model.add(Dropout(0.1))\n",
    "\n",
    "model.add(Conv2D(32, (3, 3), activation='relu'))\n",
    "model.add(MaxPooling2D((2, 2)))\n",
    "model.add(Dropout(0.15))\n",
    "\n",
    "model.add(Conv2D(64, (3, 3), activation='relu'))\n",
    "model.add(MaxPooling2D((2, 2)))\n",
    "model.add(Dropout(0.2))\n",
    "\n",
    "model.add(Conv2D(64, (3, 3), activation='relu'))\n",
    "model.add(MaxPooling2D((2, 2)))\n",
    "model.add(Dropout(0.2))\n",
    "\n",
    "model.add(Conv2D(128, (3, 3), activation='relu'))\n",
    "model.add(MaxPooling2D((2, 2)))\n",
    "\n",
    "model.add(Conv2D(128, (3, 3), activation='relu'))\n",
    "model.add(MaxPooling2D((2, 2)))\n",
    "\n",
    "model.add(Flatten())\n",
    "model.add(Dense(128))\n",
    "model.add(Dropout(0.2))\n",
    "model.add(Dense(3, activation='softmax'))\n",
    "model.compile(optimizer='adam', loss='categorical_crossentropy', metrics=['accuracy'])"
   ]
  },
  {
   "cell_type": "code",
   "execution_count": 12,
   "metadata": {},
   "outputs": [
    {
     "name": "stdout",
     "output_type": "stream",
     "text": [
      "Model: \"sequential\"\n",
      "_________________________________________________________________\n",
      "Layer (type)                 Output Shape              Param #   \n",
      "=================================================================\n",
      "conv2d (Conv2D)              (None, 253, 253, 32)      896       \n",
      "_________________________________________________________________\n",
      "max_pooling2d (MaxPooling2D) (None, 126, 126, 32)      0         \n",
      "_________________________________________________________________\n",
      "dropout (Dropout)            (None, 126, 126, 32)      0         \n",
      "_________________________________________________________________\n",
      "conv2d_1 (Conv2D)            (None, 124, 124, 32)      9248      \n",
      "_________________________________________________________________\n",
      "max_pooling2d_1 (MaxPooling2 (None, 62, 62, 32)        0         \n",
      "_________________________________________________________________\n",
      "dropout_1 (Dropout)          (None, 62, 62, 32)        0         \n",
      "_________________________________________________________________\n",
      "conv2d_2 (Conv2D)            (None, 60, 60, 64)        18496     \n",
      "_________________________________________________________________\n",
      "max_pooling2d_2 (MaxPooling2 (None, 30, 30, 64)        0         \n",
      "_________________________________________________________________\n",
      "dropout_2 (Dropout)          (None, 30, 30, 64)        0         \n",
      "_________________________________________________________________\n",
      "conv2d_3 (Conv2D)            (None, 28, 28, 64)        36928     \n",
      "_________________________________________________________________\n",
      "max_pooling2d_3 (MaxPooling2 (None, 14, 14, 64)        0         \n",
      "_________________________________________________________________\n",
      "dropout_3 (Dropout)          (None, 14, 14, 64)        0         \n",
      "_________________________________________________________________\n",
      "conv2d_4 (Conv2D)            (None, 12, 12, 128)       73856     \n",
      "_________________________________________________________________\n",
      "max_pooling2d_4 (MaxPooling2 (None, 6, 6, 128)         0         \n",
      "_________________________________________________________________\n",
      "conv2d_5 (Conv2D)            (None, 4, 4, 128)         147584    \n",
      "_________________________________________________________________\n",
      "max_pooling2d_5 (MaxPooling2 (None, 2, 2, 128)         0         \n",
      "_________________________________________________________________\n",
      "flatten (Flatten)            (None, 512)               0         \n",
      "_________________________________________________________________\n",
      "dense (Dense)                (None, 128)               65664     \n",
      "_________________________________________________________________\n",
      "dropout_4 (Dropout)          (None, 128)               0         \n",
      "_________________________________________________________________\n",
      "dense_1 (Dense)              (None, 3)                 387       \n",
      "=================================================================\n",
      "Total params: 353,059\n",
      "Trainable params: 353,059\n",
      "Non-trainable params: 0\n",
      "_________________________________________________________________\n"
     ]
    }
   ],
   "source": [
    "model.summary()"
   ]
  },
  {
   "cell_type": "code",
   "execution_count": 13,
   "metadata": {},
   "outputs": [
    {
     "name": "stdout",
     "output_type": "stream",
     "text": [
      "Found 4191 images belonging to 3 classes.\n"
     ]
    }
   ],
   "source": [
    "train_image_gen = image_gen.flow_from_directory('dataset/penyakit/train',\n",
    "                                               target_size=image_shape[:2],\n",
    "                                               shuffle=True)"
   ]
  },
  {
   "cell_type": "code",
   "execution_count": 14,
   "metadata": {},
   "outputs": [
    {
     "data": {
      "text/plain": [
       "{'Sakit': 0, 'Sehat': 1, 'not-detected': 2}"
      ]
     },
     "execution_count": 14,
     "metadata": {},
     "output_type": "execute_result"
    }
   ],
   "source": [
    "train_image_gen.class_indices"
   ]
  },
  {
   "cell_type": "code",
   "execution_count": 15,
   "metadata": {},
   "outputs": [
    {
     "name": "stdout",
     "output_type": "stream",
     "text": [
      "Found 985 images belonging to 3 classes.\n"
     ]
    }
   ],
   "source": [
    "test_image_gen = image_gen.flow_from_directory('dataset/penyakit/test',\n",
    "                                               target_size=image_shape[:2],\n",
    "                                               shuffle=True)"
   ]
  },
  {
   "cell_type": "code",
   "execution_count": 16,
   "metadata": {},
   "outputs": [
    {
     "data": {
      "text/plain": [
       "{'Sakit': 0, 'Sehat': 1, 'not-detected': 2}"
      ]
     },
     "execution_count": 16,
     "metadata": {},
     "output_type": "execute_result"
    }
   ],
   "source": [
    "test_image_gen.class_indices"
   ]
  },
  {
   "cell_type": "code",
   "execution_count": 17,
   "metadata": {},
   "outputs": [
    {
     "name": "stdout",
     "output_type": "stream",
     "text": [
      "Epoch 1/17\n",
      "  1/131 [..............................] - ETA: 0s - loss: 1.0874 - accuracy: 0.4688WARNING:tensorflow:From e:\\Anaconda\\envs\\OCR\\lib\\site-packages\\tensorflow\\python\\ops\\summary_ops_v2.py:1277: stop (from tensorflow.python.eager.profiler) is deprecated and will be removed after 2020-07-01.\n",
      "Instructions for updating:\n",
      "use `tf.profiler.experimental.stop` instead.\n",
      "131/131 [==============================] - 420s 3s/step - loss: 0.7523 - accuracy: 0.5672 - val_loss: 0.6061 - val_accuracy: 0.6294\n",
      "Epoch 2/17\n",
      "131/131 [==============================] - 339s 3s/step - loss: 0.5999 - accuracy: 0.6538 - val_loss: 0.5821 - val_accuracy: 0.6569\n",
      "Epoch 3/17\n",
      "131/131 [==============================] - 342s 3s/step - loss: 0.4894 - accuracy: 0.7454 - val_loss: 0.3608 - val_accuracy: 0.8609\n",
      "Epoch 4/17\n",
      "131/131 [==============================] - 339s 3s/step - loss: 0.3980 - accuracy: 0.8182 - val_loss: 0.2998 - val_accuracy: 0.9025\n",
      "Epoch 5/17\n",
      "131/131 [==============================] - 340s 3s/step - loss: 0.2835 - accuracy: 0.8883 - val_loss: 0.3651 - val_accuracy: 0.8802\n",
      "Epoch 6/17\n",
      "131/131 [==============================] - 338s 3s/step - loss: 0.2356 - accuracy: 0.9098 - val_loss: 0.2168 - val_accuracy: 0.9289\n",
      "Epoch 7/17\n",
      "131/131 [==============================] - 339s 3s/step - loss: 0.1780 - accuracy: 0.9361 - val_loss: 0.1857 - val_accuracy: 0.9259\n",
      "Epoch 8/17\n",
      "131/131 [==============================] - 339s 3s/step - loss: 0.1653 - accuracy: 0.9415 - val_loss: 0.1454 - val_accuracy: 0.9472\n",
      "Epoch 9/17\n",
      "131/131 [==============================] - 340s 3s/step - loss: 0.1580 - accuracy: 0.9432 - val_loss: 0.2345 - val_accuracy: 0.9127\n",
      "Epoch 10/17\n",
      "131/131 [==============================] - 339s 3s/step - loss: 0.1677 - accuracy: 0.9425 - val_loss: 0.1459 - val_accuracy: 0.9421\n",
      "Epoch 11/17\n",
      "131/131 [==============================] - 344s 3s/step - loss: 0.1317 - accuracy: 0.9504 - val_loss: 0.2563 - val_accuracy: 0.8975\n",
      "Epoch 12/17\n",
      "131/131 [==============================] - 341s 3s/step - loss: 0.1150 - accuracy: 0.9618 - val_loss: 0.0782 - val_accuracy: 0.9726\n",
      "Epoch 13/17\n",
      "131/131 [==============================] - 345s 3s/step - loss: 0.1330 - accuracy: 0.9518 - val_loss: 0.1343 - val_accuracy: 0.9462\n",
      "Epoch 14/17\n",
      "131/131 [==============================] - 356s 3s/step - loss: 0.1019 - accuracy: 0.9668 - val_loss: 0.2161 - val_accuracy: 0.9157\n",
      "Epoch 15/17\n",
      "131/131 [==============================] - 339s 3s/step - loss: 0.0984 - accuracy: 0.9628 - val_loss: 0.0816 - val_accuracy: 0.9726\n",
      "Epoch 16/17\n",
      "131/131 [==============================] - 338s 3s/step - loss: 0.0762 - accuracy: 0.9723 - val_loss: 0.0674 - val_accuracy: 0.9777\n",
      "Epoch 17/17\n",
      "131/131 [==============================] - 338s 3s/step - loss: 0.1286 - accuracy: 0.9535 - val_loss: 0.0806 - val_accuracy: 0.9736\n"
     ]
    }
   ],
   "source": [
    "results = model.fit(train_image_gen,validation_data=test_image_gen,epochs=17,callbacks=[early_stop,board])"
   ]
  },
  {
   "cell_type": "code",
   "execution_count": 18,
   "metadata": {},
   "outputs": [
    {
     "name": "stdout",
     "output_type": "stream",
     "text": [
      "dict_keys(['loss', 'accuracy', 'val_loss', 'val_accuracy'])\n"
     ]
    }
   ],
   "source": [
    "print(results.history.keys())"
   ]
  },
  {
   "cell_type": "code",
   "execution_count": 19,
   "metadata": {},
   "outputs": [
    {
     "data": {
      "image/png": "[encoded data removed]",
      "text/plain": [
       "<Figure size 432x288 with 1 Axes>"
      ]
     },
     "metadata": {
      "needs_background": "light"
     },
     "output_type": "display_data"
    }
   ],
   "source": [
    "plt.plot(results.history['accuracy'])\n",
    "plt.plot(results.history['val_accuracy'])\n",
    "plt.title('Model Akurasi')\n",
    "plt.ylabel('Akurasi')\n",
    "plt.xlabel('Epoch')\n",
    "plt.legend(['Akurasi','Akurasi testing'], loc='lower right')\n",
    "plt.savefig('ACC-Penyakit-11-Lite.png')\n",
    "plt.show()\n"
   ]
  },
  {
   "cell_type": "code",
   "execution_count": 20,
   "metadata": {},
   "outputs": [
    {
     "data": {
      "image/png": "[encoded data removed]",
      "text/plain": [
       "<Figure size 432x288 with 1 Axes>"
      ]
     },
     "metadata": {
      "needs_background": "light"
     },
     "output_type": "display_data"
    }
   ],
   "source": [
    "plt.plot(results.history['loss'])\n",
    "plt.plot(results.history['val_loss'])\n",
    "plt.title('Model Loss')\n",
    "plt.ylabel('Loss')\n",
    "plt.xlabel('Epoch')\n",
    "plt.legend(['Loss','Loss testing'], loc='upper right')\n",
    "plt.savefig('LOSS-Penyakit-11-Lite.png')\n",
    "plt.show()"
   ]
  },
  {
   "cell_type": "code",
   "execution_count": 21,
   "metadata": {},
   "outputs": [
    {
     "data": {
      "text/plain": [
       "{'Sakit': 0, 'Sehat': 1, 'not-detected': 2}"
      ]
     },
     "execution_count": 21,
     "metadata": {},
     "output_type": "execute_result"
    }
   ],
   "source": [
    "train_image_gen.class_indices"
   ]
  },
  {
   "cell_type": "code",
   "execution_count": 21,
   "metadata": {},
   "outputs": [],
   "source": [
    "model.save('CNN-Penyakit-11-Lite.h5')"
   ]
  },
  {
   "cell_type": "code",
   "execution_count": 22,
   "metadata": {},
   "outputs": [
    {
     "name": "stdout",
     "output_type": "stream",
     "text": [
      "WARNING:tensorflow:From e:\\Anaconda\\envs\\OCR\\lib\\site-packages\\tensorflow\\python\\training\\tracking\\tracking.py:111: Model.state_updates (from tensorflow.python.keras.engine.training) is deprecated and will be removed in a future version.\n",
      "Instructions for updating:\n",
      "This property should not be used in TensorFlow 2.0, as updates are applied automatically.\n",
      "WARNING:tensorflow:From e:\\Anaconda\\envs\\OCR\\lib\\site-packages\\tensorflow\\python\\training\\tracking\\tracking.py:111: Layer.updates (from tensorflow.python.keras.engine.base_layer) is deprecated and will be removed in a future version.\n",
      "Instructions for updating:\n",
      "This property should not be used in TensorFlow 2.0, as updates are applied automatically.\n",
      "INFO:tensorflow:Assets written to: CNN-Penyakit-11-Lite\\assets\n"
     ]
    }
   ],
   "source": [
    "model.save('CNN-Penyakit-11-Lite')"
   ]
  },
  {
   "cell_type": "code",
   "execution_count": 2,
   "metadata": {},
   "outputs": [],
   "source": [
    "new_model = tf.keras.models.load_model('CNN-Penyakit-11-Lite')"
   ]
  },
  {
   "cell_type": "code",
   "execution_count": 39,
   "metadata": {},
   "outputs": [],
   "source": [
    "import numpy as np\n",
    "from keras.preprocessing import image\n",
    "\n",
    "def preproses(gambar):\n",
    "    foto = image.load_img(gambar, target_size=(255,255))\n",
    "    foto = image.img_to_array(foto)\n",
    "    foto = np.expand_dims(foto, axis=0)\n",
    "    return foto/255\n",
    "\n",
    "sakit1 = 'Test gambar\\Pengujian-mode2\\sakit1.jpg'\n",
    "sakit2 = 'Test gambar\\Pengujian-mode2\\sakit2.jpg'\n",
    "sakit3 = 'Test gambar\\Pengujian-mode2\\sakit3.jpg'\n",
    "sakit4 = 'Test gambar\\Pengujian-mode2\\sakit4.jpg'\n",
    "sakit5 = 'Test gambar\\Pengujian-mode2\\sakit5.jpg'\n",
    "sakit6 = 'Test gambar\\Pengujian-mode2\\sakit6.jpg'\n",
    "sakit7 = 'Test gambar\\Pengujian-mode2\\sakit7.jpg'\n",
    "sakit8 = 'Test gambar\\Pengujian-mode2\\sakit8.jpg'\n",
    "sakit9 = 'Test gambar\\Pengujian-mode2\\sakit9.jpg'\n",
    "sakit10 = 'Test gambar\\Pengujian-mode2\\sakit10.jpg'\n",
    "sakit11 = 'Test gambar\\Pengujian-mode2\\sakit11.jpg'\n",
    "sakit12 = 'Test gambar\\Pengujian-mode2\\sakit12.jpg'\n",
    "sakit13 = 'Test gambar\\Pengujian-mode2\\sakit13.jpg'\n",
    "\n",
    "sakit1 = preproses(sakit1)\n",
    "sakit2 = preproses(sakit2)\n",
    "sakit3 = preproses(sakit3)\n",
    "sakit4 = preproses(sakit4)\n",
    "sakit5 = preproses(sakit5)\n",
    "sakit6 = preproses(sakit6)\n",
    "sakit7 = preproses(sakit7)\n",
    "sakit8 = preproses(sakit8)\n",
    "sakit9 = preproses(sakit9)\n",
    "sakit10 = preproses(sakit10)\n",
    "sakit11 = preproses(sakit11)\n",
    "sakit12 = preproses(sakit12)\n",
    "sakit13 = preproses(sakit13)"
   ]
  },
  {
   "cell_type": "code",
   "execution_count": 41,
   "metadata": {},
   "outputs": [],
   "source": [
    "sehat1 = 'Test gambar\\Pengujian-mode2\\sehat1.jpg'\n",
    "sehat2 = 'Test gambar\\Pengujian-mode2\\sehat2.jpg'\n",
    "sehat3 = 'Test gambar\\Pengujian-mode2\\sehat3.jpg'\n",
    "sehat4 = 'Test gambar\\Pengujian-mode2\\sehat4.jpg'\n",
    "sehat5 = 'Test gambar\\Pengujian-mode2\\sehat5.jpg'\n",
    "sehat6 = 'Test gambar\\Pengujian-mode2\\sehat6.jpg'\n",
    "sehat7 = 'Test gambar\\Pengujian-mode2\\sehat7.jpg'\n",
    "sehat8 = 'Test gambar\\Pengujian-mode2\\sehat8.jpg'\n",
    "sehat9 = 'Test gambar\\Pengujian-mode2\\sehat9.jpg'\n",
    "sehat10 = 'Test gambar\\Pengujian-mode2\\sehat10.jpg'\n",
    "sehat11 = 'Test gambar\\Pengujian-mode2\\sehat11.jpg'\n",
    "sehat12 = 'Test gambar\\Pengujian-mode2\\sehat12.jpg'\n",
    "sehat13 = 'Test gambar\\Pengujian-mode2\\sehat13.jpg'\n",
    "\n",
    "\n",
    "sehat1 = preproses(sehat1)\n",
    "sehat2 = preproses(sehat2)\n",
    "sehat3 = preproses(sehat3)\n",
    "sehat4 = preproses(sehat4)\n",
    "sehat5 = preproses(sehat5)\n",
    "sehat6 = preproses(sehat6)\n",
    "sehat7 = preproses(sehat7)\n",
    "sehat8 = preproses(sehat8)\n",
    "sehat9 = preproses(sehat9)\n",
    "sehat10 = preproses(sehat10)\n",
    "sehat11 = preproses(sehat11)\n",
    "sehat12 = preproses(sehat12)\n",
    "sehat13 = preproses(sehat13)\n"
   ]
  },
  {
   "cell_type": "code",
   "execution_count": 58,
   "metadata": {},
   "outputs": [
    {
     "name": "stdout",
     "output_type": "stream",
     "text": [
      "Prediksi gambar Sakit 1 = Sakit, dengan probabilitas: 0.99715805\n",
      "Prediksi gambar Sakit 2 = Sakit, dengan probabilitas: 0.9996705\n",
      "Prediksi gambar Sakit 3 = Sakit, dengan probabilitas: 0.9971861\n",
      "Prediksi gambar Sakit 4 = Sakit, dengan probabilitas: 0.9617526\n",
      "Prediksi gambar Sakit 5 = Sakit, dengan probabilitas: 0.99715805\n",
      "Prediksi gambar Sakit 6 = Sakit, dengan probabilitas: 0.966222\n",
      "Prediksi gambar Sakit 7 = Sakit, dengan probabilitas: 0.9381715\n",
      "Prediksi gambar Sakit 8 = Sakit, dengan probabilitas: 0.910682\n",
      "Prediksi gambar Sakit 9 = Sakit, dengan probabilitas: 0.6108871\n",
      "Prediksi gambar Sakit 10 = Sakit, dengan probabilitas: 0.97837216\n",
      "Prediksi gambar Sakit 11 = Sakit, dengan probabilitas: 0.9907884\n",
      "Prediksi gambar Sakit 12 = Sakit, dengan probabilitas: 0.9999548\n",
      "Prediksi gambar Sakit 13 = Sakit, dengan probabilitas: 0.9904792\n"
     ]
    }
   ],
   "source": [
    "def prediksi(foto):\n",
    "    a = new_model.predict_proba(foto).max()\n",
    "    b=new_model.predict_classes(foto)\n",
    "    if b == 0:\n",
    "        return(\"Sakit, dengan probabilitas: \") + str(a)\n",
    "    elif b == 1:\n",
    "        return(\"Sehat, dengan probabilitas: \") + str(a)\n",
    "    else:\n",
    "        return(\"Bukan, Tanaman dengan probabilitas: \") + str(a)\n",
    "\n",
    "\n",
    "print(\"Prediksi gambar Sakit 1 =\",prediksi(sakit1))\n",
    "print(\"Prediksi gambar Sakit 2 =\",prediksi(sakit2))\n",
    "print(\"Prediksi gambar Sakit 3 =\",prediksi(sakit3))\n",
    "print(\"Prediksi gambar Sakit 4 =\",prediksi(sakit4))\n",
    "print(\"Prediksi gambar Sakit 5 =\",prediksi(sakit5))\n",
    "print(\"Prediksi gambar Sakit 6 =\",prediksi(sakit6))\n",
    "print(\"Prediksi gambar Sakit 7 =\",prediksi(sakit7))\n",
    "print(\"Prediksi gambar Sakit 8 =\",prediksi(sakit8))\n",
    "print(\"Prediksi gambar Sakit 9 =\",prediksi(sakit9))\n",
    "print(\"Prediksi gambar Sakit 10 =\",prediksi(sakit10))\n",
    "print(\"Prediksi gambar Sakit 11 =\",prediksi(sakit11))\n",
    "print(\"Prediksi gambar Sakit 12 =\",prediksi(sakit12))\n",
    "print(\"Prediksi gambar Sakit 13 =\",prediksi(sakit13))\n"
   ]
  },
  {
   "cell_type": "code",
   "execution_count": 59,
   "metadata": {},
   "outputs": [
    {
     "name": "stdout",
     "output_type": "stream",
     "text": [
      "Prediksi gambar Sehat 1 = Sehat, dengan probabilitas: 0.99992037\n",
      "Prediksi gambar Sehat 2 = Sehat, dengan probabilitas: 0.6758562\n",
      "Prediksi gambar Sehat 3 = Sehat, dengan probabilitas: 0.9587682\n",
      "Prediksi gambar Sehat 4 = Sehat, dengan probabilitas: 0.9618102\n",
      "Prediksi gambar Sehat 5 = Sehat, dengan probabilitas: 0.9918785\n",
      "Prediksi gambar Sehat 6 = Sakit, dengan probabilitas: 0.717658\n",
      "Prediksi gambar Sehat 7 = Sehat, dengan probabilitas: 0.9919199\n",
      "Prediksi gambar Sehat 8 = Sehat, dengan probabilitas: 0.8222715\n",
      "Prediksi gambar Sehat 9 = Sehat, dengan probabilitas: 0.98737586\n",
      "Prediksi gambar Sehat 10 = Sehat, dengan probabilitas: 0.94915485\n",
      "Prediksi gambar Sehat 11 = Sehat, dengan probabilitas: 0.999964\n",
      "Prediksi gambar Sehat 12 = Sehat, dengan probabilitas: 0.9907699\n",
      "Prediksi gambar Sehat 13 = Sehat, dengan probabilitas: 0.999946\n"
     ]
    }
   ],
   "source": [
    "print(\"Prediksi gambar Sehat 1 =\",prediksi(sehat1))\n",
    "print(\"Prediksi gambar Sehat 2 =\",prediksi(sehat2))\n",
    "print(\"Prediksi gambar Sehat 3 =\",prediksi(sehat3))\n",
    "print(\"Prediksi gambar Sehat 4 =\",prediksi(sehat4))\n",
    "print(\"Prediksi gambar Sehat 5 =\",prediksi(sehat5))\n",
    "print(\"Prediksi gambar Sehat 6 =\",prediksi(sehat6))\n",
    "print(\"Prediksi gambar Sehat 7 =\",prediksi(sehat7))\n",
    "print(\"Prediksi gambar Sehat 8 =\",prediksi(sehat8))\n",
    "print(\"Prediksi gambar Sehat 9 =\",prediksi(sehat9))\n",
    "print(\"Prediksi gambar Sehat 10 =\",prediksi(sehat10))\n",
    "print(\"Prediksi gambar Sehat 11 =\",prediksi(sehat11))\n",
    "print(\"Prediksi gambar Sehat 12 =\",prediksi(sehat12))\n",
    "print(\"Prediksi gambar Sehat 13 =\",prediksi(sehat13))"
   ]
  },
  {
   "cell_type": "code",
   "execution_count": 23,
   "metadata": {},
   "outputs": [
    {
     "name": "stdout",
     "output_type": "stream",
     "text": [
      "Sakit\n"
     ]
    }
   ],
   "source": [
    "b=new_model.predict_classes(sakit1)\n",
    "if b == 0:\n",
    "    print(\"Sakit\")\n",
    "elif b == 1:\n",
    "    print(\"Sehat\")\n",
    "else:\n",
    "    print(\"Bukan Tanaman\")"
   ]
  },
  {
   "cell_type": "code",
   "execution_count": 42,
   "metadata": {},
   "outputs": [
    {
     "name": "stdout",
     "output_type": "stream",
     "text": [
      "[[4.7852702e-02 9.5155984e-01 5.8750750e-04]]\n"
     ]
    }
   ],
   "source": [
    "b=model.predict_proba(foto)\n",
    "print(b)"
   ]
  },
  {
   "cell_type": "markdown",
   "metadata": {},
   "source": [
    "tensorboard --logdir logs\\fit"
   ]
  },
  {
   "cell_type": "code",
   "execution_count": 47,
   "metadata": {},
   "outputs": [
    {
     "ename": "TypeError",
     "evalue": "'numpy.ndarray' object is not callable",
     "output_type": "error",
     "traceback": [
      "\u001b[1;31m---------------------------------------------------------------------------\u001b[0m",
      "\u001b[1;31mTypeError\u001b[0m                                 Traceback (most recent call last)",
      "\u001b[1;32m~\\AppData\\Local\\Temp/ipykernel_5856/2577642197.py\u001b[0m in \u001b[0;36m<module>\u001b[1;34m\u001b[0m\n\u001b[1;32m----> 1\u001b[1;33m \u001b[0mprint\u001b[0m\u001b[1;33m(\u001b[0m\u001b[0mb\u001b[0m\u001b[1;33m(\u001b[0m\u001b[1;33m[\u001b[0m\u001b[1;33m[\u001b[0m\u001b[1;36m1\u001b[0m\u001b[1;33m,\u001b[0m\u001b[1;36m2\u001b[0m\u001b[1;33m]\u001b[0m\u001b[1;33m]\u001b[0m\u001b[1;33m)\u001b[0m\u001b[1;33m)\u001b[0m\u001b[1;33m\u001b[0m\u001b[1;33m\u001b[0m\u001b[0m\n\u001b[0m",
      "\u001b[1;31mTypeError\u001b[0m: 'numpy.ndarray' object is not callable"
     ]
    }
   ],
   "source": [
    "print(b.max)"
   ]
  },
  {
   "cell_type": "markdown",
   "metadata": {},
   "source": []
  }
 ],
 "metadata": {
  "interpreter": {
   "hash": "940257f2c57c40807266cffc3d4a7fb7ebab29e0de9961596a747d8d4b59b33f"
  },
  "kernelspec": {
   "display_name": "Python 3.8.12 ('OCR')",
   "language": "python",
   "name": "python3"
  },
  "language_info": {
   "codemirror_mode": {
    "name": "ipython",
    "version": 3
   },
   "file_extension": ".py",
   "mimetype": "text/x-python",
   "name": "python",
   "nbconvert_exporter": "python",
   "pygments_lexer": "ipython3",
   "version": "3.8.12"
  }
 },
 "nbformat": 4,
 "nbformat_minor": 2
}
